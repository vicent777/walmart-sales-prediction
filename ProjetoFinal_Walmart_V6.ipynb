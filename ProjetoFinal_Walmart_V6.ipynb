{
 "cells": [
  {
   "cell_type": "markdown",
   "id": "3125b965-94e1-44f3-908d-143770501aa0",
   "metadata": {},
   "source": [
    "# Walmart Dataset\n",
    "**Fonte Dados:** [Kaggle](https://www.kaggle.com/datasets/yasserh/walmart-dataset/data)"
   ]
  },
  {
   "cell_type": "code",
   "execution_count": 2,
   "id": "bdc8db3d-037c-4bf6-8dd6-564a64083a2e",
   "metadata": {},
   "outputs": [
    {
     "data": {
      "text/html": [
       "<div>\n",
       "<style scoped>\n",
       "    .dataframe tbody tr th:only-of-type {\n",
       "        vertical-align: middle;\n",
       "    }\n",
       "\n",
       "    .dataframe tbody tr th {\n",
       "        vertical-align: top;\n",
       "    }\n",
       "\n",
       "    .dataframe thead th {\n",
       "        text-align: right;\n",
       "    }\n",
       "</style>\n",
       "<table border=\"1\" class=\"dataframe\">\n",
       "  <thead>\n",
       "    <tr style=\"text-align: right;\">\n",
       "      <th></th>\n",
       "      <th>Store</th>\n",
       "      <th>Date</th>\n",
       "      <th>Weekly_Sales</th>\n",
       "      <th>Holiday_Flag</th>\n",
       "      <th>Temperature</th>\n",
       "      <th>Fuel_Price</th>\n",
       "      <th>CPI</th>\n",
       "      <th>Unemployment</th>\n",
       "    </tr>\n",
       "  </thead>\n",
       "  <tbody>\n",
       "    <tr>\n",
       "      <th>0</th>\n",
       "      <td>1</td>\n",
       "      <td>05-02-2010</td>\n",
       "      <td>1643690.90</td>\n",
       "      <td>0</td>\n",
       "      <td>42.31</td>\n",
       "      <td>2.572</td>\n",
       "      <td>211.096358</td>\n",
       "      <td>8.106</td>\n",
       "    </tr>\n",
       "    <tr>\n",
       "      <th>1</th>\n",
       "      <td>1</td>\n",
       "      <td>12-02-2010</td>\n",
       "      <td>1641957.44</td>\n",
       "      <td>1</td>\n",
       "      <td>38.51</td>\n",
       "      <td>2.548</td>\n",
       "      <td>211.242170</td>\n",
       "      <td>8.106</td>\n",
       "    </tr>\n",
       "    <tr>\n",
       "      <th>2</th>\n",
       "      <td>1</td>\n",
       "      <td>19-02-2010</td>\n",
       "      <td>1611968.17</td>\n",
       "      <td>0</td>\n",
       "      <td>39.93</td>\n",
       "      <td>2.514</td>\n",
       "      <td>211.289143</td>\n",
       "      <td>8.106</td>\n",
       "    </tr>\n",
       "    <tr>\n",
       "      <th>3</th>\n",
       "      <td>1</td>\n",
       "      <td>26-02-2010</td>\n",
       "      <td>1409727.59</td>\n",
       "      <td>0</td>\n",
       "      <td>46.63</td>\n",
       "      <td>2.561</td>\n",
       "      <td>211.319643</td>\n",
       "      <td>8.106</td>\n",
       "    </tr>\n",
       "    <tr>\n",
       "      <th>4</th>\n",
       "      <td>1</td>\n",
       "      <td>05-03-2010</td>\n",
       "      <td>1554806.68</td>\n",
       "      <td>0</td>\n",
       "      <td>46.50</td>\n",
       "      <td>2.625</td>\n",
       "      <td>211.350143</td>\n",
       "      <td>8.106</td>\n",
       "    </tr>\n",
       "    <tr>\n",
       "      <th>...</th>\n",
       "      <td>...</td>\n",
       "      <td>...</td>\n",
       "      <td>...</td>\n",
       "      <td>...</td>\n",
       "      <td>...</td>\n",
       "      <td>...</td>\n",
       "      <td>...</td>\n",
       "      <td>...</td>\n",
       "    </tr>\n",
       "    <tr>\n",
       "      <th>6430</th>\n",
       "      <td>45</td>\n",
       "      <td>28-09-2012</td>\n",
       "      <td>713173.95</td>\n",
       "      <td>0</td>\n",
       "      <td>64.88</td>\n",
       "      <td>3.997</td>\n",
       "      <td>192.013558</td>\n",
       "      <td>8.684</td>\n",
       "    </tr>\n",
       "    <tr>\n",
       "      <th>6431</th>\n",
       "      <td>45</td>\n",
       "      <td>05-10-2012</td>\n",
       "      <td>733455.07</td>\n",
       "      <td>0</td>\n",
       "      <td>64.89</td>\n",
       "      <td>3.985</td>\n",
       "      <td>192.170412</td>\n",
       "      <td>8.667</td>\n",
       "    </tr>\n",
       "    <tr>\n",
       "      <th>6432</th>\n",
       "      <td>45</td>\n",
       "      <td>12-10-2012</td>\n",
       "      <td>734464.36</td>\n",
       "      <td>0</td>\n",
       "      <td>54.47</td>\n",
       "      <td>4.000</td>\n",
       "      <td>192.327265</td>\n",
       "      <td>8.667</td>\n",
       "    </tr>\n",
       "    <tr>\n",
       "      <th>6433</th>\n",
       "      <td>45</td>\n",
       "      <td>19-10-2012</td>\n",
       "      <td>718125.53</td>\n",
       "      <td>0</td>\n",
       "      <td>56.47</td>\n",
       "      <td>3.969</td>\n",
       "      <td>192.330854</td>\n",
       "      <td>8.667</td>\n",
       "    </tr>\n",
       "    <tr>\n",
       "      <th>6434</th>\n",
       "      <td>45</td>\n",
       "      <td>26-10-2012</td>\n",
       "      <td>760281.43</td>\n",
       "      <td>0</td>\n",
       "      <td>58.85</td>\n",
       "      <td>3.882</td>\n",
       "      <td>192.308899</td>\n",
       "      <td>8.667</td>\n",
       "    </tr>\n",
       "  </tbody>\n",
       "</table>\n",
       "<p>6435 rows × 8 columns</p>\n",
       "</div>"
      ],
      "text/plain": [
       "      Store        Date  Weekly_Sales  Holiday_Flag  Temperature  Fuel_Price  \\\n",
       "0         1  05-02-2010    1643690.90             0        42.31       2.572   \n",
       "1         1  12-02-2010    1641957.44             1        38.51       2.548   \n",
       "2         1  19-02-2010    1611968.17             0        39.93       2.514   \n",
       "3         1  26-02-2010    1409727.59             0        46.63       2.561   \n",
       "4         1  05-03-2010    1554806.68             0        46.50       2.625   \n",
       "...     ...         ...           ...           ...          ...         ...   \n",
       "6430     45  28-09-2012     713173.95             0        64.88       3.997   \n",
       "6431     45  05-10-2012     733455.07             0        64.89       3.985   \n",
       "6432     45  12-10-2012     734464.36             0        54.47       4.000   \n",
       "6433     45  19-10-2012     718125.53             0        56.47       3.969   \n",
       "6434     45  26-10-2012     760281.43             0        58.85       3.882   \n",
       "\n",
       "             CPI  Unemployment  \n",
       "0     211.096358         8.106  \n",
       "1     211.242170         8.106  \n",
       "2     211.289143         8.106  \n",
       "3     211.319643         8.106  \n",
       "4     211.350143         8.106  \n",
       "...          ...           ...  \n",
       "6430  192.013558         8.684  \n",
       "6431  192.170412         8.667  \n",
       "6432  192.327265         8.667  \n",
       "6433  192.330854         8.667  \n",
       "6434  192.308899         8.667  \n",
       "\n",
       "[6435 rows x 8 columns]"
      ]
     },
     "execution_count": 2,
     "metadata": {},
     "output_type": "execute_result"
    }
   ],
   "source": [
    "# Importar biblio e dados\n",
    "import pandas as pd\n",
    "import seaborn as sns\n",
    "import matplotlib.pyplot as plt\n",
    "\n",
    "dados = pd.read_csv(\"Walmart.csv\")\n",
    "dados"
   ]
  },
  {
   "cell_type": "code",
   "execution_count": null,
   "id": "863e553b-7cc3-428d-976a-90277732fd9d",
   "metadata": {},
   "outputs": [],
   "source": [
    "dados.info()"
   ]
  },
  {
   "cell_type": "code",
   "execution_count": null,
   "id": "d2758155-f62c-4a70-8c35-6d9fc7d1e419",
   "metadata": {},
   "outputs": [],
   "source": [
    "dados.describe()"
   ]
  },
  {
   "cell_type": "code",
   "execution_count": null,
   "id": "e06f743b-e15d-4d9d-9ebe-adb8457601ce",
   "metadata": {},
   "outputs": [],
   "source": [
    "dados.isna().sum()"
   ]
  },
  {
   "cell_type": "code",
   "execution_count": null,
   "id": "2fe16463-8e23-4254-8b2b-11721cd5672a",
   "metadata": {},
   "outputs": [],
   "source": [
    "dados.nunique()"
   ]
  },
  {
   "cell_type": "code",
   "execution_count": null,
   "id": "872d0022-1253-4e64-a262-d0acc56a6e72",
   "metadata": {},
   "outputs": [],
   "source": [
    "# Alterar tipo da coluna \"Date\" para Data\n",
    "\n",
    "dados['Date'] = pd.to_datetime(dados['Date'], format=\"%d-%m-%Y\")\n",
    "dados"
   ]
  },
  {
   "cell_type": "code",
   "execution_count": null,
   "id": "b3200572-1d4a-4b58-82b6-32656a44047c",
   "metadata": {},
   "outputs": [],
   "source": [
    "dados.info()"
   ]
  },
  {
   "cell_type": "code",
   "execution_count": null,
   "id": "184341b9-7951-4c41-b1f1-491e186c8643",
   "metadata": {},
   "outputs": [],
   "source": [
    "# Novas colunas \"Year\" e \"Month\"\n",
    "\n",
    "dados['Year'] = dados['Date'].dt.year\n",
    "dados['Month'] = dados['Date'].dt.month\n",
    "dados"
   ]
  },
  {
   "cell_type": "code",
   "execution_count": null,
   "id": "51749eb8-a187-40ab-889b-8afda7a737fc",
   "metadata": {},
   "outputs": [],
   "source": [
    "# Eliminar coluna 'Date'\n",
    "dados = dados.drop('Date', axis=1)\n",
    "dados.info()"
   ]
  },
  {
   "cell_type": "code",
   "execution_count": null,
   "id": "a62c9355-c2bb-49b2-b41f-fcd6867c1be4",
   "metadata": {},
   "outputs": [],
   "source": [
    "dados.duplicated().sum()"
   ]
  },
  {
   "cell_type": "code",
   "execution_count": null,
   "id": "14719ba0-bb38-409f-b551-7bdc7d0f66ea",
   "metadata": {},
   "outputs": [],
   "source": [
    "cols = ['Store', 'Holiday_Flag', 'Temperature', 'Fuel_Price', 'CPI', 'Unemployment', 'Year', 'Month']\n",
    "plt.figure(figsize=(20,18))\n",
    "for i,col in enumerate(cols):\n",
    "    print(i, col)\n",
    "    plt.subplot(4,2,i+1)\n",
    "    sns.boxplot(dados, x = col, color = 'red')\n",
    "plt.show()"
   ]
  },
  {
   "cell_type": "code",
   "execution_count": null,
   "id": "c39ec59e-e212-4d26-ba4b-22b205ccb97e",
   "metadata": {},
   "outputs": [],
   "source": [
    "print(dados['Temperature'].describe())\n",
    "print(dados['Unemployment'].describe())"
   ]
  },
  {
   "cell_type": "code",
   "execution_count": 13,
   "id": "836cd2b8-7293-45b3-bad9-3839b11bb26a",
   "metadata": {},
   "outputs": [],
   "source": [
    "# Remover Outliers das colunas \"Temperature\" e \"Unemployment\"\n",
    "\n",
    "dados.drop(dados[dados['Temperature'] < 7.5].index, axis = 0, inplace = True)\n",
    "\n",
    "dados.drop(dados[dados['Unemployment'] < 4.4].index, axis = 0, inplace = True)\n",
    "dados.drop(dados[dados['Unemployment'] > 10.9].index, axis = 0, inplace = True)"
   ]
  },
  {
   "cell_type": "code",
   "execution_count": null,
   "id": "e3bb06aa-a7db-4ec4-ae63-75c966b57e8e",
   "metadata": {},
   "outputs": [],
   "source": [
    "sns.heatmap(dados.corr(), annot = True, cmap = 'coolwarm', fmt = '.2f', \n",
    "            linewidths = .5)"
   ]
  },
  {
   "cell_type": "code",
   "execution_count": null,
   "id": "4e04bedc-8900-4412-a57b-ca1cf4a9f06c",
   "metadata": {},
   "outputs": [],
   "source": [
    "dados.corr()['Weekly_Sales']"
   ]
  },
  {
   "cell_type": "code",
   "execution_count": 16,
   "id": "236a2b3f-f07b-480d-8b18-aad58fe25f89",
   "metadata": {},
   "outputs": [],
   "source": [
    "#  5 melhores:   Store, Temperature, CPI, Unemployment, Month"
   ]
  },
  {
   "cell_type": "code",
   "execution_count": 17,
   "id": "abd347db-cae0-4d86-bf82-f9520b20a096",
   "metadata": {},
   "outputs": [],
   "source": [
    "# Separar X e y\n",
    "\n",
    "X = dados.drop('Weekly_Sales', axis=1)\n",
    "y = dados[\"Weekly_Sales\"]"
   ]
  },
  {
   "cell_type": "code",
   "execution_count": 18,
   "id": "993ce55f-b1be-44f7-9fee-4b445892f5c7",
   "metadata": {},
   "outputs": [],
   "source": [
    "# Treino teste & split\n",
    "from sklearn.model_selection import train_test_split\n",
    "\n",
    "X_train, X_test, y_train, y_test = train_test_split(X, y, test_size=0.33, random_state=42)"
   ]
  },
  {
   "cell_type": "code",
   "execution_count": 19,
   "id": "5439a81a-705b-4c44-a121-1bfb557d33bb",
   "metadata": {},
   "outputs": [],
   "source": [
    "# Importação modelos\n",
    "\n",
    "from sklearn import linear_model\n",
    "from sklearn.neighbors import KNeighborsRegressor\n",
    "from sklearn import tree\n",
    "from sklearn.neighbors import RadiusNeighborsRegressor\n",
    "from sklearn.ensemble import RandomForestRegressor\n",
    "from sklearn.linear_model import HuberRegressor, LinearRegression"
   ]
  },
  {
   "cell_type": "code",
   "execution_count": 20,
   "id": "3fc6b7bb-eea4-4c42-b676-a54fb2cc7395",
   "metadata": {},
   "outputs": [],
   "source": [
    "# Classificadores e fit\n",
    "\n",
    "reg_rlinear = linear_model.LinearRegression().fit(X_train, y_train)\n",
    "reg_knn_3 = KNeighborsRegressor(n_neighbors=3).fit(X_train, y_train)\n",
    "reg_knn_5 = KNeighborsRegressor(n_neighbors=5).fit(X_train, y_train)\n",
    "reg_tree = tree.DecisionTreeRegressor().fit(X_train, y_train)\n",
    "reg_RKNN = RadiusNeighborsRegressor(radius = 800).fit(X_train, y_train)\n",
    "reg_rforest = RandomForestRegressor(n_estimators=800, random_state=5).fit(X_train,y_train)\n",
    "reg_Hub = HuberRegressor(max_iter = 800).fit(X_train, y_train)"
   ]
  },
  {
   "cell_type": "code",
   "execution_count": 21,
   "id": "b20c4ac5-d179-4db8-98e1-ec62175eb877",
   "metadata": {},
   "outputs": [],
   "source": [
    "# Fazer a previsão\n",
    "\n",
    "y_pred_RL = reg_rlinear.predict(X_test)\n",
    "y_pred_knn_3 = reg_knn_3.predict(X_test)\n",
    "y_pred_knn_5 = reg_knn_5.predict(X_test)\n",
    "y_pred_tree = reg_tree.predict(X_test)\n",
    "y_pred_rknn = reg_RKNN.predict(X_test)\n",
    "y_pred_rforest = reg_rforest.predict(X_test)\n",
    "y_pred_hub = reg_Hub.predict(X_test)"
   ]
  },
  {
   "cell_type": "code",
   "execution_count": null,
   "id": "7a019241-fbd7-4e2d-ba16-9e7594a74ffb",
   "metadata": {},
   "outputs": [],
   "source": [
    "y_test.mean()"
   ]
  },
  {
   "cell_type": "code",
   "execution_count": null,
   "id": "27f97164-dc89-4722-80ab-61b87bd4c1e4",
   "metadata": {},
   "outputs": [],
   "source": [
    "# Avaliar a media do erro absoluto\n",
    "\n",
    "from sklearn.metrics import mean_absolute_error\n",
    "print('Média do erro absoluto - Reg. Linear:', mean_absolute_error(y_test, y_pred_RL))\n",
    "print('Média do erro absoluto - KNN_3:', mean_absolute_error(y_test, y_pred_knn_3))\n",
    "print('Média do erro absoluto - KNN_5:', mean_absolute_error(y_test, y_pred_knn_5))\n",
    "print('Média do erro absoluto - Árvore:', mean_absolute_error(y_test, y_pred_tree))\n",
    "print('Média do erro absoluto - KNN_radius:', mean_absolute_error(y_test, y_pred_rknn))\n",
    "print('Média do erro absoluto - Random Forest:', mean_absolute_error(y_test, y_pred_rforest))\n",
    "print('Média do erro absoluto - Huber Regressor:', mean_absolute_error(y_test, y_pred_hub))"
   ]
  },
  {
   "cell_type": "code",
   "execution_count": null,
   "id": "a5c48833-4101-42a4-853a-6ce0a5c02276",
   "metadata": {},
   "outputs": [],
   "source": [
    "# Percentagem dos erros de cada modelo\n",
    "\n",
    "print(\"Percentagem Reg. Linear:\", round(((mean_absolute_error(y_test, y_pred_RL)/y_test.mean())*100),1),'%')\n",
    "print(\"Percentagem KNN_3:\", round(((mean_absolute_error(y_test, y_pred_knn_3)/y_test.mean())*100),1),'%')\n",
    "print(\"Percentagem KNN_5:\", round(((mean_absolute_error(y_test, y_pred_knn_5)/y_test.mean())*100),1),'%')\n",
    "print(\"Percentagem Árvore:\", round(((mean_absolute_error(y_test, y_pred_tree)/y_test.mean())*100),1),'%')\n",
    "print(\"Percentagem KNN_radius:\", round(((mean_absolute_error(y_test, y_pred_rknn)/y_test.mean())*100),1),'%')\n",
    "print(\"Percentagem Random Forest:\", round(((mean_absolute_error(y_test, y_pred_rforest)/y_test.mean())*100),1),'%')\n",
    "print(\"Percentagem Huber Regressor:\", round(((mean_absolute_error(y_test, y_pred_hub)/y_test.mean())*100),1),'%')"
   ]
  },
  {
   "cell_type": "code",
   "execution_count": null,
   "id": "bb17828a-85ef-4ead-b512-1aa2628844a0",
   "metadata": {},
   "outputs": [],
   "source": [
    "# Ver graficamente\n",
    "\n",
    "fig,ax=plt.subplots(ncols=7, figsize=(20,10))\n",
    "ax[0].scatter(y_pred_RL,y_test)\n",
    "ax[0].plot([0,3000000],[0,4000000],'--r')\n",
    "ax[1].scatter(y_pred_knn_3,y_test)\n",
    "ax[1].plot([0,3000000],[0,4000000],'--r')\n",
    "ax[2].scatter(y_pred_knn_5,y_test)\n",
    "ax[2].plot([0,3000000],[0,4000000],'--r')\n",
    "ax[3].scatter(y_pred_tree,y_test)\n",
    "ax[3].plot([0,3000000],[0,4000000],'--r')\n",
    "ax[4].scatter(y_pred_rknn,y_test)\n",
    "ax[4].plot([0,3000000],[0,4000000],'--r')\n",
    "ax[5].scatter(y_pred_rforest,y_test)\n",
    "ax[5].plot([0,3000000],[0,4000000],'--r')\n",
    "ax[6].scatter(y_pred_hub,y_test)\n",
    "ax[6].plot([0,3000000],[0,4000000],'--r')\n",
    "\n",
    "ax[0].title.set_text('Reg Linear')\n",
    "ax[1].title.set_text('KNN_3')\n",
    "ax[2].title.set_text('KNN_5')\n",
    "ax[3].title.set_text('Tree')\n",
    "ax[4].title.set_text('KNN_radius')\n",
    "ax[5].title.set_text('Random Forest')\n",
    "ax[6].title.set_text('Huber')\n",
    "\n",
    "plt.show()"
   ]
  },
  {
   "cell_type": "code",
   "execution_count": null,
   "id": "e6d4530f",
   "metadata": {},
   "outputs": [],
   "source": [
    "modelo = RandomForestRegressor()\n",
    "modelo.fit(X_train, y_train)\n",
    "\n",
    "#Obter a importância das características\n",
    "feature_importances = modelo.feature_importances_\n",
    "\n",
    "#Criar DataFrame com as importâncias das características\n",
    "feature_importances_data = pd.DataFrame({'Feature': X_train.columns, 'Importance': feature_importances})\n",
    "\n",
    "#Ordenar as características por importância\n",
    "feature_importances_data = feature_importances_data.sort_values(by = 'Importance', ascending=False)\n",
    "\n",
    "#Imprimir\n",
    "print(feature_importances_data)"
   ]
  }
 ],
 "metadata": {
  "kernelspec": {
   "display_name": "Python 3 (ipykernel)",
   "language": "python",
   "name": "python3"
  },
  "language_info": {
   "codemirror_mode": {
    "name": "ipython",
    "version": 3
   },
   "file_extension": ".py",
   "mimetype": "text/x-python",
   "name": "python",
   "nbconvert_exporter": "python",
   "pygments_lexer": "ipython3",
   "version": "3.11.8"
  }
 },
 "nbformat": 4,
 "nbformat_minor": 5
}
